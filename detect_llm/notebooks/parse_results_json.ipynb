{
 "cells": [
  {
   "cell_type": "markdown",
   "source": [
    "# Parse results in JSON"
   ],
   "metadata": {
    "collapsed": false
   },
   "id": "4b71f9fe6211d039"
  },
  {
   "cell_type": "code",
   "execution_count": 1,
   "outputs": [],
   "source": [
    "import json\n",
    "import glob\n",
    "import os\n",
    "import pandas as pd\n",
    "import re"
   ],
   "metadata": {
    "collapsed": false,
    "ExecuteTime": {
     "end_time": "2024-03-01T13:27:45.312036Z",
     "start_time": "2024-03-01T13:27:43.099290Z"
    }
   },
   "id": "db1fccf053655e92"
  },
  {
   "cell_type": "code",
   "execution_count": 2,
   "outputs": [],
   "source": [
    "def list_files(path, seed=None):\n",
    "    files = glob.glob(os.path.join(path, \"*.json\"))\n",
    "    if seed:\n",
    "        files = [f for f in files if f'seed{seed}_' in f]  # filter filename with the seed\n",
    "    files = [f for f in files if os.path.getsize(f) > 0]  # ignore empty files\n",
    "    files = sorted(files, key=lambda x: \"_\".join(x.split('_')[:-1]))\n",
    "    return files"
   ],
   "metadata": {
    "collapsed": false,
    "ExecuteTime": {
     "end_time": "2024-03-01T13:27:45.325928Z",
     "start_time": "2024-03-01T13:27:45.316399Z"
    }
   },
   "id": "cb783027ff66ab02"
  },
  {
   "cell_type": "code",
   "execution_count": 3,
   "outputs": [],
   "source": [
    "def load_suffixes(path, seed=None):\n",
    "    \"\"\"\n",
    "    Load best suffixes\n",
    "    \"\"\"\n",
    "    data = []\n",
    "    for file in files:\n",
    "        with open(file, 'r') as f:\n",
    "            data += json.load(f)\n",
    "    print(f'{len(data)} suffixes loaded from {len(files)} files.')\n",
    "    for i,suffix in enumerate(data):\n",
    "        for k,v in suffix.items():\n",
    "            if type(v)==list and len(v) == 1:\n",
    "                data[i][k] = v[0]\n",
    "    str_length_search = re.search(r'\\/str_length_(\\d+)\\/', path)\n",
    "    if str_length_search:\n",
    "        str_length = str_length_search.group(1)\n",
    "    else:\n",
    "        print(f'[INFO] String length not detected from suffix path (/str_length_XX/). Using 4 by default.')\n",
    "        str_length = 4\n",
    "    df = pd.DataFrame(data)\n",
    "    df['number'] = df['targets'].str.extract(r': (\\d{'+str(str_length)+'})')\n",
    "    df['str_length'] = str_length\n",
    "    if pd.isna(df['number']).sum() > 0:\n",
    "        print(f\"[ERROR] extracting targeted number: {pd.isna(df['number']).sum()} NA values!\")\n",
    "    return df"
   ],
   "metadata": {
    "collapsed": false,
    "ExecuteTime": {
     "end_time": "2024-03-01T13:27:45.355425Z",
     "start_time": "2024-03-01T13:27:45.321909Z"
    }
   },
   "id": "3174824deb4d14b4"
  },
  {
   "cell_type": "code",
   "execution_count": 4,
   "outputs": [],
   "source": [
    "def get_args(filename):\n",
    "    pattern = r\"str_length_(\\d+)/.*model_(\\w+)/.*_offset(\\d+)_\"\n",
    "    match = re.search(pattern, filename)\n",
    "    if not match:\n",
    "        raise ValueError()\n",
    "    str_length = int(match.group(1))\n",
    "    model = match.group(2)\n",
    "    offset = int(match.group(3))\n",
    "    return str_length, model, offset\n"
   ],
   "metadata": {
    "collapsed": false,
    "ExecuteTime": {
     "end_time": "2024-03-01T13:27:45.885539Z",
     "start_time": "2024-03-01T13:27:45.873663Z"
    }
   },
   "id": "d83e6f9aad08a073"
  },
  {
   "cell_type": "code",
   "execution_count": 5,
   "outputs": [],
   "source": [
    "f1 = list_files('../results/method_random/type_number/str_length_3/model_llama2')\n",
    "f2 = list_files('../results/method_random/type_number/str_length_4/model_llama2')\n",
    "f3 = list_files('../results/method_random/type_number/str_length_5/model_llama2')\n",
    "files = f1 + f2 + f3"
   ],
   "metadata": {
    "collapsed": false,
    "ExecuteTime": {
     "end_time": "2023-11-21T21:22:56.142130Z",
     "start_time": "2023-11-21T21:22:55.686581Z"
    }
   },
   "id": "d4658e68763cfc3a"
  },
  {
   "cell_type": "code",
   "execution_count": 6,
   "outputs": [
    {
     "name": "stdout",
     "output_type": "stream",
     "text": [
      "[INFO] The last 129 will be ignore. Most likely a partial computation that failed in between.\n",
      "[INFO] The last 63 will be ignore. Most likely a partial computation that failed in between.\n",
      "[INFO] The last 78 will be ignore. Most likely a partial computation that failed in between.\n",
      "[INFO] The last 76 will be ignore. Most likely a partial computation that failed in between.\n",
      "[INFO] The last 92 will be ignore. Most likely a partial computation that failed in between.\n",
      "[INFO] The last 78 will be ignore. Most likely a partial computation that failed in between.\n",
      "[INFO] The last 75 will be ignore. Most likely a partial computation that failed in between.\n",
      "[INFO] The last 61 will be ignore. Most likely a partial computation that failed in between.\n",
      "[INFO] The last 63 will be ignore. Most likely a partial computation that failed in between.\n",
      "[INFO] The last 61 will be ignore. Most likely a partial computation that failed in between.\n",
      "[INFO] The last 82 will be ignore. Most likely a partial computation that failed in between.\n",
      "[INFO] The last 48 will be ignore. Most likely a partial computation that failed in between.\n",
      "[INFO] The last 36 will be ignore. Most likely a partial computation that failed in between.\n",
      "[INFO] The last 10 will be ignore. Most likely a partial computation that failed in between.\n",
      "[INFO] The last 138 will be ignore. Most likely a partial computation that failed in between.\n",
      "[INFO] The last 16 will be ignore. Most likely a partial computation that failed in between.\n",
      "[INFO] The last 11 will be ignore. Most likely a partial computation that failed in between.\n",
      "[INFO] The last 143 will be ignore. Most likely a partial computation that failed in between.\n",
      "[INFO] The last 13 will be ignore. Most likely a partial computation that failed in between.\n",
      "[INFO] The last 15 will be ignore. Most likely a partial computation that failed in between.\n"
     ]
    }
   ],
   "source": [
    "#file = files[1]\n",
    "#file = 'results/method_random/type_number/model_llama2/gcg_offset0_20231107-132845.json'\n",
    "stats = []\n",
    "\n",
    "for file in files:\n",
    "    with open(file, 'r') as f:\n",
    "        data = json.load(f)\n",
    "    \n",
    "    nb_prefixes = len(data['best'])\n",
    "    n_steps = data['params']['n_steps']\n",
    "    n_test_steps = data['params']['test_steps']\n",
    "    \n",
    "    str_length, model, data_offset = get_args(file)\n",
    "    \n",
    "    nb_log_per_suffix = 1+n_steps//n_test_steps\n",
    "    max_n_data = nb_log_per_suffix * nb_prefixes   # +1 because there is an eval at the start and the end\n",
    "    \n",
    "    #print(max_n_data, len(data['tests']))\n",
    "    \n",
    "    if len(data['tests']) > max_n_data:\n",
    "        print(f\"[INFO] The last {len(data['tests']) - max_n_data} will be ignore. Most likely a partial computation that failed in between.\")\n",
    "    \n",
    "    for i, test in enumerate(data['tests']):\n",
    "        # do not extract after that (ignore partial run when the node crashed)\n",
    "        if i+1 > max_n_data:\n",
    "            break\n",
    "        idx_data = i // nb_log_per_suffix\n",
    "        stats.append({\n",
    "            'model': model,\n",
    "            'str_length': str_length,\n",
    "            'Step': (i % nb_log_per_suffix) * n_test_steps,\n",
    "            'idx_data': data_offset+idx_data,\n",
    "            'Loss': test['n_loss'][0],\n",
    "        })\n",
    "\n",
    "df = pd.DataFrame(stats)\n",
    "    "
   ],
   "metadata": {
    "collapsed": false,
    "ExecuteTime": {
     "end_time": "2023-11-21T21:23:00.246214Z",
     "start_time": "2023-11-21T21:22:55.925547Z"
    }
   },
   "id": "a0c1b559516053f"
  },
  {
   "cell_type": "code",
   "execution_count": 7,
   "outputs": [
    {
     "data": {
      "text/plain": "        model  str_length  Step  idx_data      Loss\n0      llama2           3     0         0  1.972656\n1      llama2           3    10         0  1.465820\n2      llama2           3    20         0  1.317383\n3      llama2           3    30         0  1.167969\n4      llama2           3    40         0  1.088867\n...       ...         ...   ...       ...       ...\n45295  llama2           5  1460        99  0.130005\n45296  llama2           5  1470        99  0.103943\n45297  llama2           5  1480        99  0.100342\n45298  llama2           5  1490        99  0.085266\n45299  llama2           5  1500        99  0.101624\n\n[45300 rows x 5 columns]",
      "text/html": "<div>\n<style scoped>\n    .dataframe tbody tr th:only-of-type {\n        vertical-align: middle;\n    }\n\n    .dataframe tbody tr th {\n        vertical-align: top;\n    }\n\n    .dataframe thead th {\n        text-align: right;\n    }\n</style>\n<table border=\"1\" class=\"dataframe\">\n  <thead>\n    <tr style=\"text-align: right;\">\n      <th></th>\n      <th>model</th>\n      <th>str_length</th>\n      <th>Step</th>\n      <th>idx_data</th>\n      <th>Loss</th>\n    </tr>\n  </thead>\n  <tbody>\n    <tr>\n      <th>0</th>\n      <td>llama2</td>\n      <td>3</td>\n      <td>0</td>\n      <td>0</td>\n      <td>1.972656</td>\n    </tr>\n    <tr>\n      <th>1</th>\n      <td>llama2</td>\n      <td>3</td>\n      <td>10</td>\n      <td>0</td>\n      <td>1.465820</td>\n    </tr>\n    <tr>\n      <th>2</th>\n      <td>llama2</td>\n      <td>3</td>\n      <td>20</td>\n      <td>0</td>\n      <td>1.317383</td>\n    </tr>\n    <tr>\n      <th>3</th>\n      <td>llama2</td>\n      <td>3</td>\n      <td>30</td>\n      <td>0</td>\n      <td>1.167969</td>\n    </tr>\n    <tr>\n      <th>4</th>\n      <td>llama2</td>\n      <td>3</td>\n      <td>40</td>\n      <td>0</td>\n      <td>1.088867</td>\n    </tr>\n    <tr>\n      <th>...</th>\n      <td>...</td>\n      <td>...</td>\n      <td>...</td>\n      <td>...</td>\n      <td>...</td>\n    </tr>\n    <tr>\n      <th>45295</th>\n      <td>llama2</td>\n      <td>5</td>\n      <td>1460</td>\n      <td>99</td>\n      <td>0.130005</td>\n    </tr>\n    <tr>\n      <th>45296</th>\n      <td>llama2</td>\n      <td>5</td>\n      <td>1470</td>\n      <td>99</td>\n      <td>0.103943</td>\n    </tr>\n    <tr>\n      <th>45297</th>\n      <td>llama2</td>\n      <td>5</td>\n      <td>1480</td>\n      <td>99</td>\n      <td>0.100342</td>\n    </tr>\n    <tr>\n      <th>45298</th>\n      <td>llama2</td>\n      <td>5</td>\n      <td>1490</td>\n      <td>99</td>\n      <td>0.085266</td>\n    </tr>\n    <tr>\n      <th>45299</th>\n      <td>llama2</td>\n      <td>5</td>\n      <td>1500</td>\n      <td>99</td>\n      <td>0.101624</td>\n    </tr>\n  </tbody>\n</table>\n<p>45300 rows × 5 columns</p>\n</div>"
     },
     "execution_count": 7,
     "metadata": {},
     "output_type": "execute_result"
    }
   ],
   "source": [
    "df"
   ],
   "metadata": {
    "collapsed": false,
    "ExecuteTime": {
     "end_time": "2023-11-21T21:23:00.378300Z",
     "start_time": "2023-11-21T21:23:00.241564Z"
    }
   },
   "id": "f82f908525755c4f"
  },
  {
   "cell_type": "code",
   "execution_count": 8,
   "outputs": [],
   "source": [
    "df.to_csv('../results/loss_steps.csv')"
   ],
   "metadata": {
    "collapsed": false,
    "ExecuteTime": {
     "end_time": "2023-11-21T21:23:01.510788Z",
     "start_time": "2023-11-21T21:23:00.381578Z"
    }
   },
   "id": "b21f61c0da015e55"
  },
  {
   "cell_type": "code",
   "execution_count": null,
   "outputs": [],
   "source": [],
   "metadata": {
    "collapsed": false
   },
   "id": "d5f4406f1a4c5ec"
  }
 ],
 "metadata": {
  "kernelspec": {
   "display_name": "Python 3",
   "language": "python",
   "name": "python3"
  },
  "language_info": {
   "codemirror_mode": {
    "name": "ipython",
    "version": 2
   },
   "file_extension": ".py",
   "mimetype": "text/x-python",
   "name": "python",
   "nbconvert_exporter": "python",
   "pygments_lexer": "ipython2",
   "version": "2.7.6"
  }
 },
 "nbformat": 4,
 "nbformat_minor": 5
}
