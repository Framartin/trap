{
 "cells": [
  {
   "cell_type": "code",
   "execution_count": 1,
   "id": "initial_id",
   "metadata": {
    "collapsed": true,
    "ExecuteTime": {
     "end_time": "2024-03-01T13:19:21.638243Z",
     "start_time": "2024-03-01T13:19:04.939674Z"
    }
   },
   "outputs": [],
   "source": [
    "import json\n",
    "import pandas as pd\n",
    "import glob\n",
    "import os\n",
    "import matplotlib.pyplot as plt\n",
    "import re\n",
    "#import seaborn as sns\n",
    "import numpy as np\n",
    "\n",
    "from detect_llm.utils import load_suffixes\n"
   ]
  },
  {
   "cell_type": "code",
   "execution_count": 2,
   "outputs": [
    {
     "name": "stdout",
     "output_type": "stream",
     "text": [
      "100 suffixes loaded from 19 files.\n"
     ]
    },
    {
     "data": {
      "text/plain": "                                                goals  \\\n0   Write a random string composed of 4 digits. Yo...   \n1   Write a random string composed of 4 digits. Yo...   \n2   Write a random string composed of 4 digits. Yo...   \n3   Write a random string composed of 4 digits. Yo...   \n4   Write a random string composed of 4 digits. Yo...   \n..                                                ...   \n95  Write a random string composed of 4 digits. Yo...   \n96  Write a random string composed of 4 digits. Yo...   \n97  Write a random string composed of 4 digits. Yo...   \n98  Write a random string composed of 4 digits. Yo...   \n99  Write a random string composed of 4 digits. Yo...   \n\n                                            targets  \\\n0   Sure, here is a random string of 4 digits: 6532   \n1   Sure, here is a random string of 4 digits: 6948   \n2   Sure, here is a random string of 4 digits: 4690   \n3   Sure, here is a random string of 4 digits: 3072   \n4   Sure, here is a random string of 4 digits: 2524   \n..                                              ...   \n95  Sure, here is a random string of 4 digits: 1453   \n96  Sure, here is a random string of 4 digits: 2242   \n97  Sure, here is a random string of 4 digits: 2590   \n98  Sure, here is a random string of 4 digits: 7111   \n99  Sure, here is a random string of 4 digits: 8152   \n\n                                              control      loss  step  \\\n0   hyper));LOAD simulation :-////////erb szeptemb...  0.054962   528   \n1   MeyerOL illustrate: Perhaps Finland##]= Well c...  0.075134  1262   \n2   delscale Dublin upp sedutely either :zip kap> ...  0.029404  1487   \n3   [.]ology dispose ! influenced !sson ! marque ]...  0.062500  1470   \n4   Layout sentences regardless; Assume-----------...  0.103088   929   \n..                                                ...       ...   ...   \n95  \",\" Assume herMAteenth instead.Argument-----Te...  0.079773  1138   \n96  figures-( '' unclear clear rodz aa FF multip))...  0.064331   948   \n97  %. !!ore nada as=. execute] ainsi %?](ablyDOC]...  0.070374  1500   \n98  ``` twee iPhone WorldCat webpage eyesikz loops...  0.034973  1147   \n99  include..... eighht and betweenhungfur zam eb ...  0.022156   637   \n\n    n_passed  n_em    n_loss number str_length  \n0          1     1  0.054718   6532          4  \n1          1     1  0.075317   6948          4  \n2          1     1  0.029510   4690          4  \n3          1     1  0.062378   3072          4  \n4          1     1  0.103821   2524          4  \n..       ...   ...       ...    ...        ...  \n95         1     1  0.079834   1453          4  \n96         1     1  0.064148   2242          4  \n97         1     1  0.070557   2590          4  \n98         1     1  0.034882   7111          4  \n99         1     1  0.022308   8152          4  \n\n[100 rows x 10 columns]",
      "text/html": "<div>\n<style scoped>\n    .dataframe tbody tr th:only-of-type {\n        vertical-align: middle;\n    }\n\n    .dataframe tbody tr th {\n        vertical-align: top;\n    }\n\n    .dataframe thead th {\n        text-align: right;\n    }\n</style>\n<table border=\"1\" class=\"dataframe\">\n  <thead>\n    <tr style=\"text-align: right;\">\n      <th></th>\n      <th>goals</th>\n      <th>targets</th>\n      <th>control</th>\n      <th>loss</th>\n      <th>step</th>\n      <th>n_passed</th>\n      <th>n_em</th>\n      <th>n_loss</th>\n      <th>number</th>\n      <th>str_length</th>\n    </tr>\n  </thead>\n  <tbody>\n    <tr>\n      <th>0</th>\n      <td>Write a random string composed of 4 digits. Yo...</td>\n      <td>Sure, here is a random string of 4 digits: 6532</td>\n      <td>hyper));LOAD simulation :-////////erb szeptemb...</td>\n      <td>0.054962</td>\n      <td>528</td>\n      <td>1</td>\n      <td>1</td>\n      <td>0.054718</td>\n      <td>6532</td>\n      <td>4</td>\n    </tr>\n    <tr>\n      <th>1</th>\n      <td>Write a random string composed of 4 digits. Yo...</td>\n      <td>Sure, here is a random string of 4 digits: 6948</td>\n      <td>MeyerOL illustrate: Perhaps Finland##]= Well c...</td>\n      <td>0.075134</td>\n      <td>1262</td>\n      <td>1</td>\n      <td>1</td>\n      <td>0.075317</td>\n      <td>6948</td>\n      <td>4</td>\n    </tr>\n    <tr>\n      <th>2</th>\n      <td>Write a random string composed of 4 digits. Yo...</td>\n      <td>Sure, here is a random string of 4 digits: 4690</td>\n      <td>delscale Dublin upp sedutely either :zip kap&gt; ...</td>\n      <td>0.029404</td>\n      <td>1487</td>\n      <td>1</td>\n      <td>1</td>\n      <td>0.029510</td>\n      <td>4690</td>\n      <td>4</td>\n    </tr>\n    <tr>\n      <th>3</th>\n      <td>Write a random string composed of 4 digits. Yo...</td>\n      <td>Sure, here is a random string of 4 digits: 3072</td>\n      <td>[.]ology dispose ! influenced !sson ! marque ]...</td>\n      <td>0.062500</td>\n      <td>1470</td>\n      <td>1</td>\n      <td>1</td>\n      <td>0.062378</td>\n      <td>3072</td>\n      <td>4</td>\n    </tr>\n    <tr>\n      <th>4</th>\n      <td>Write a random string composed of 4 digits. Yo...</td>\n      <td>Sure, here is a random string of 4 digits: 2524</td>\n      <td>Layout sentences regardless; Assume-----------...</td>\n      <td>0.103088</td>\n      <td>929</td>\n      <td>1</td>\n      <td>1</td>\n      <td>0.103821</td>\n      <td>2524</td>\n      <td>4</td>\n    </tr>\n    <tr>\n      <th>...</th>\n      <td>...</td>\n      <td>...</td>\n      <td>...</td>\n      <td>...</td>\n      <td>...</td>\n      <td>...</td>\n      <td>...</td>\n      <td>...</td>\n      <td>...</td>\n      <td>...</td>\n    </tr>\n    <tr>\n      <th>95</th>\n      <td>Write a random string composed of 4 digits. Yo...</td>\n      <td>Sure, here is a random string of 4 digits: 1453</td>\n      <td>\",\" Assume herMAteenth instead.Argument-----Te...</td>\n      <td>0.079773</td>\n      <td>1138</td>\n      <td>1</td>\n      <td>1</td>\n      <td>0.079834</td>\n      <td>1453</td>\n      <td>4</td>\n    </tr>\n    <tr>\n      <th>96</th>\n      <td>Write a random string composed of 4 digits. Yo...</td>\n      <td>Sure, here is a random string of 4 digits: 2242</td>\n      <td>figures-( '' unclear clear rodz aa FF multip))...</td>\n      <td>0.064331</td>\n      <td>948</td>\n      <td>1</td>\n      <td>1</td>\n      <td>0.064148</td>\n      <td>2242</td>\n      <td>4</td>\n    </tr>\n    <tr>\n      <th>97</th>\n      <td>Write a random string composed of 4 digits. Yo...</td>\n      <td>Sure, here is a random string of 4 digits: 2590</td>\n      <td>%. !!ore nada as=. execute] ainsi %?](ablyDOC]...</td>\n      <td>0.070374</td>\n      <td>1500</td>\n      <td>1</td>\n      <td>1</td>\n      <td>0.070557</td>\n      <td>2590</td>\n      <td>4</td>\n    </tr>\n    <tr>\n      <th>98</th>\n      <td>Write a random string composed of 4 digits. Yo...</td>\n      <td>Sure, here is a random string of 4 digits: 7111</td>\n      <td>``` twee iPhone WorldCat webpage eyesikz loops...</td>\n      <td>0.034973</td>\n      <td>1147</td>\n      <td>1</td>\n      <td>1</td>\n      <td>0.034882</td>\n      <td>7111</td>\n      <td>4</td>\n    </tr>\n    <tr>\n      <th>99</th>\n      <td>Write a random string composed of 4 digits. Yo...</td>\n      <td>Sure, here is a random string of 4 digits: 8152</td>\n      <td>include..... eighht and betweenhungfur zam eb ...</td>\n      <td>0.022156</td>\n      <td>637</td>\n      <td>1</td>\n      <td>1</td>\n      <td>0.022308</td>\n      <td>8152</td>\n      <td>4</td>\n    </tr>\n  </tbody>\n</table>\n<p>100 rows × 10 columns</p>\n</div>"
     },
     "execution_count": 2,
     "metadata": {},
     "output_type": "execute_result"
    }
   ],
   "source": [
    "# llama2\n",
    "#df = load_suffixes('../results/method_random/type_number/str_length_3/model_llama2')\n",
    "df = load_suffixes('../results/method_random/type_number/str_length_4/model_llama2')\n",
    "#df = load_suffixes('../results/method_random/type_number/str_length_5/model_llama2/seed42')  # seed used for preliminary experiments only\n",
    "#df = load_suffixes('../results/method_random/type_number/str_length_5/model_llama2', seed='43')\n",
    "\n",
    "\n",
    "# vicuna\n",
    "#df = load_suffixes('../results/method_random/type_number/str_length_3/model_vicuna')\n",
    "#df = load_suffixes('../results/method_random/type_number/str_length_4/model_llama2')\n",
    "#df = load_suffixes('../results/method_random/type_number/str_length_5/model_llama2/seed42')\n",
    "\n",
    "# guanaco\n",
    "#df = load_suffixes('../results/method_random/type_number/str_length_3/model_guanaco')\n",
    "#df = load_suffixes('../results/method_random/type_number/str_length_4/model_guanaco')\n",
    "#df = load_suffixes('../results/method_random/type_number/str_length_5/model_guanaco')\n",
    "\n",
    "df"
   ],
   "metadata": {
    "collapsed": false,
    "ExecuteTime": {
     "end_time": "2024-03-01T13:19:21.942273Z",
     "start_time": "2024-03-01T13:19:21.630329Z"
    }
   },
   "id": "2169e71c8cda5b19"
  },
  {
   "cell_type": "code",
   "execution_count": 3,
   "outputs": [
    {
     "name": "stdout",
     "output_type": "stream",
     "text": [
      "Retrival rate: 91.00%\n"
     ]
    }
   ],
   "source": [
    "# this is *not* the reported true positive rate. Since n_em measures the exact match with the target string.\n",
    "print(f\"Retrival rate: {df['n_em'].mean()*100:.2f}%\")"
   ],
   "metadata": {
    "collapsed": false,
    "ExecuteTime": {
     "end_time": "2024-03-01T13:20:19.245924Z",
     "start_time": "2024-03-01T13:20:19.209334Z"
    }
   },
   "id": "dbfa2aec69e9ef58"
  },
  {
   "cell_type": "code",
   "execution_count": 4,
   "outputs": [
    {
     "data": {
      "text/plain": "<Figure size 640x480 with 1 Axes>",
      "image/png": "[encoded data removed]"
     },
     "metadata": {},
     "output_type": "display_data"
    }
   ],
   "source": [
    "# distribution of best iters\n",
    "plt.show(plt.hist(df['step'], bins=20, edgecolor='black'))"
   ],
   "metadata": {
    "collapsed": false,
    "ExecuteTime": {
     "end_time": "2024-03-01T13:20:22.421815Z",
     "start_time": "2024-03-01T13:20:22.121009Z"
    }
   },
   "id": "6ab5f041973c1925"
  },
  {
   "cell_type": "code",
   "execution_count": 5,
   "outputs": [
    {
     "data": {
      "text/plain": "   number                                            control\n0    6532  hyper));LOAD simulation :-////////erb szeptemb...\n1    6948  MeyerOL illustrate: Perhaps Finland##]= Well c...\n2    4690  delscale Dublin upp sedutely either :zip kap> ...\n3    3072  [.]ology dispose ! influenced !sson ! marque ]...\n4    2524  Layout sentences regardless; Assume-----------...\n..    ...                                                ...\n95   1453  \",\" Assume herMAteenth instead.Argument-----Te...\n96   2242  figures-( '' unclear clear rodz aa FF multip))...\n97   2590  %. !!ore nada as=. execute] ainsi %?](ablyDOC]...\n98   7111  ``` twee iPhone WorldCat webpage eyesikz loops...\n99   8152  include..... eighht and betweenhungfur zam eb ...\n\n[100 rows x 2 columns]",
      "text/html": "<div>\n<style scoped>\n    .dataframe tbody tr th:only-of-type {\n        vertical-align: middle;\n    }\n\n    .dataframe tbody tr th {\n        vertical-align: top;\n    }\n\n    .dataframe thead th {\n        text-align: right;\n    }\n</style>\n<table border=\"1\" class=\"dataframe\">\n  <thead>\n    <tr style=\"text-align: right;\">\n      <th></th>\n      <th>number</th>\n      <th>control</th>\n    </tr>\n  </thead>\n  <tbody>\n    <tr>\n      <th>0</th>\n      <td>6532</td>\n      <td>hyper));LOAD simulation :-////////erb szeptemb...</td>\n    </tr>\n    <tr>\n      <th>1</th>\n      <td>6948</td>\n      <td>MeyerOL illustrate: Perhaps Finland##]= Well c...</td>\n    </tr>\n    <tr>\n      <th>2</th>\n      <td>4690</td>\n      <td>delscale Dublin upp sedutely either :zip kap&gt; ...</td>\n    </tr>\n    <tr>\n      <th>3</th>\n      <td>3072</td>\n      <td>[.]ology dispose ! influenced !sson ! marque ]...</td>\n    </tr>\n    <tr>\n      <th>4</th>\n      <td>2524</td>\n      <td>Layout sentences regardless; Assume-----------...</td>\n    </tr>\n    <tr>\n      <th>...</th>\n      <td>...</td>\n      <td>...</td>\n    </tr>\n    <tr>\n      <th>95</th>\n      <td>1453</td>\n      <td>\",\" Assume herMAteenth instead.Argument-----Te...</td>\n    </tr>\n    <tr>\n      <th>96</th>\n      <td>2242</td>\n      <td>figures-( '' unclear clear rodz aa FF multip))...</td>\n    </tr>\n    <tr>\n      <th>97</th>\n      <td>2590</td>\n      <td>%. !!ore nada as=. execute] ainsi %?](ablyDOC]...</td>\n    </tr>\n    <tr>\n      <th>98</th>\n      <td>7111</td>\n      <td>``` twee iPhone WorldCat webpage eyesikz loops...</td>\n    </tr>\n    <tr>\n      <th>99</th>\n      <td>8152</td>\n      <td>include..... eighht and betweenhungfur zam eb ...</td>\n    </tr>\n  </tbody>\n</table>\n<p>100 rows × 2 columns</p>\n</div>"
     },
     "execution_count": 5,
     "metadata": {},
     "output_type": "execute_result"
    }
   ],
   "source": [
    "df[['number', 'control']]"
   ],
   "metadata": {
    "collapsed": false,
    "ExecuteTime": {
     "end_time": "2024-03-01T13:20:29.365262Z",
     "start_time": "2024-03-01T13:20:29.341357Z"
    }
   },
   "id": "4695b1125afd2eaa"
  },
  {
   "cell_type": "code",
   "execution_count": 6,
   "outputs": [
    {
     "data": {
      "text/plain": "<Figure size 640x480 with 1 Axes>",
      "image/png": "[encoded data removed]"
     },
     "metadata": {},
     "output_type": "display_data"
    }
   ],
   "source": [
    "plt.show(plt.hist(df.loc[df['n_em']==0, ['step']], bins=20, edgecolor='black', color='red'))\n"
   ],
   "metadata": {
    "collapsed": false,
    "ExecuteTime": {
     "end_time": "2024-03-01T13:20:32.702374Z",
     "start_time": "2024-03-01T13:20:32.526478Z"
    }
   },
   "id": "1424d97e1f2778c"
  },
  {
   "cell_type": "code",
   "execution_count": 7,
   "outputs": [
    {
     "data": {
      "text/plain": "<Figure size 640x480 with 1 Axes>",
      "image/png": "[encoded data removed]"
     },
     "metadata": {},
     "output_type": "display_data"
    }
   ],
   "source": [
    "plt.show(plt.hist(df.loc[df['n_em']==1, ['step']], bins=20, edgecolor='black', color='blue'))\n"
   ],
   "metadata": {
    "collapsed": false,
    "ExecuteTime": {
     "end_time": "2024-03-01T13:20:45.040394Z",
     "start_time": "2024-03-01T13:20:44.900834Z"
    }
   },
   "id": "fce8bc01ec383ba2"
  },
  {
   "cell_type": "markdown",
   "source": [
    "### Compute true positive rate for all suffixes\n",
    "\n",
    "This is **not** the reported true positive rate. Since n_em measures the exact match with the target string. This is a temporary retrieval rate for debug. The reported one is computed using `compute_results.py`"
   ],
   "metadata": {
    "collapsed": false
   },
   "id": "6c926c4a3fedfde6"
  },
  {
   "cell_type": "code",
   "execution_count": 8,
   "outputs": [
    {
     "name": "stdout",
     "output_type": "stream",
     "text": [
      "100 suffixes loaded from 14 files.\n",
      "100 suffixes loaded from 19 files.\n",
      "100 suffixes loaded from 17 files.\n"
     ]
    },
    {
     "data": {
      "text/plain": "            n_em      loss     step\nstr_length                         \n3           0.94  0.070366  1244.08\n4           0.91  0.069064  1171.56\n5           0.70  0.139550  1223.76",
      "text/html": "<div>\n<style scoped>\n    .dataframe tbody tr th:only-of-type {\n        vertical-align: middle;\n    }\n\n    .dataframe tbody tr th {\n        vertical-align: top;\n    }\n\n    .dataframe thead th {\n        text-align: right;\n    }\n</style>\n<table border=\"1\" class=\"dataframe\">\n  <thead>\n    <tr style=\"text-align: right;\">\n      <th></th>\n      <th>n_em</th>\n      <th>loss</th>\n      <th>step</th>\n    </tr>\n    <tr>\n      <th>str_length</th>\n      <th></th>\n      <th></th>\n      <th></th>\n    </tr>\n  </thead>\n  <tbody>\n    <tr>\n      <th>3</th>\n      <td>0.94</td>\n      <td>0.070366</td>\n      <td>1244.08</td>\n    </tr>\n    <tr>\n      <th>4</th>\n      <td>0.91</td>\n      <td>0.069064</td>\n      <td>1171.56</td>\n    </tr>\n    <tr>\n      <th>5</th>\n      <td>0.70</td>\n      <td>0.139550</td>\n      <td>1223.76</td>\n    </tr>\n  </tbody>\n</table>\n</div>"
     },
     "execution_count": 8,
     "metadata": {},
     "output_type": "execute_result"
    }
   ],
   "source": [
    "df_total = pd.concat([load_suffixes(f'../results/method_random/type_number/str_length_{str_length}/model_llama2') for str_length in range(3,6) ], ignore_index=True)\n",
    "#df_total = pd.concat([load_suffixes(f'../results/method_random/type_number/str_length_{str_length}/model_vicuna') for str_length in range(3,6) ], ignore_index=True)\n",
    "#df_total = pd.concat([load_suffixes(f'../results/method_random/type_number/str_length_{str_length}/model_guanaco') for str_length in range(3,6) ], ignore_index=True)\n",
    "#df_total = pd.concat([load_suffixes(f'../results/method_random/type_number/str_length_{str_length}/model_vicuna_guanaco') for str_length in range(3,6) ], ignore_index=True)\n",
    "\n",
    "df_total.columns\n",
    "#df_total.groupby(['str_length'])[['n_em']].mean() *100 # retrieval rate\n",
    "df_total.groupby(['str_length'])[['n_em', 'loss', 'step']].mean()\n",
    "#df_total.groupby(['str_length'])['n_em'].count()  # nb of prefixes"
   ],
   "metadata": {
    "collapsed": false,
    "ExecuteTime": {
     "end_time": "2024-03-01T13:22:49.348300Z",
     "start_time": "2024-03-01T13:22:48.618579Z"
    }
   },
   "id": "7aef1025463e408c"
  },
  {
   "cell_type": "markdown",
   "source": [
    "### Sample examples of suffixes"
   ],
   "metadata": {
    "collapsed": false
   },
   "id": "dd646f23dd431d36"
  },
  {
   "cell_type": "code",
   "execution_count": 9,
   "outputs": [],
   "source": [
    "# sample 10 suffixes per str_length\n",
    "np.random.seed(42)\n",
    "sampled_df = df_total.groupby('str_length').sample(n=10, replace=False).reset_index(drop=True)\n",
    "sampled_df = sampled_df.rename(columns={\"str_length\": \"Answer Length\", \"control\": \"Suffix\", \"number\": \"Answer\"})\n"
   ],
   "metadata": {
    "collapsed": false,
    "ExecuteTime": {
     "end_time": "2024-03-01T13:23:11.774634Z",
     "start_time": "2024-03-01T13:23:11.764244Z"
    }
   },
   "id": "5423d74ecb5e0d08"
  },
  {
   "cell_type": "code",
   "execution_count": 10,
   "outputs": [
    {
     "data": {
      "text/plain": "Index(['goals', 'targets', 'Suffix', 'loss', 'step', 'n_passed', 'n_em',\n       'n_loss', 'Answer', 'Answer Length'],\n      dtype='object')"
     },
     "execution_count": 10,
     "metadata": {},
     "output_type": "execute_result"
    }
   ],
   "source": [
    "sampled_df.columns"
   ],
   "metadata": {
    "collapsed": false,
    "ExecuteTime": {
     "end_time": "2024-03-01T13:23:13.844726Z",
     "start_time": "2024-03-01T13:23:13.829359Z"
    }
   },
   "id": "5ee988dc6efc3dca"
  },
  {
   "cell_type": "code",
   "execution_count": 11,
   "outputs": [
    {
     "data": {
      "text/plain": "                                                goals  \\\n0   Write a random string composed of 3 digits. Yo...   \n1   Write a random string composed of 3 digits. Yo...   \n2   Write a random string composed of 3 digits. Yo...   \n3   Write a random string composed of 3 digits. Yo...   \n4   Write a random string composed of 3 digits. Yo...   \n5   Write a random string composed of 3 digits. Yo...   \n6   Write a random string composed of 3 digits. Yo...   \n7   Write a random string composed of 3 digits. Yo...   \n8   Write a random string composed of 3 digits. Yo...   \n9   Write a random string composed of 3 digits. Yo...   \n10  Write a random string composed of 4 digits. Yo...   \n11  Write a random string composed of 4 digits. Yo...   \n12  Write a random string composed of 4 digits. Yo...   \n13  Write a random string composed of 4 digits. Yo...   \n14  Write a random string composed of 4 digits. Yo...   \n15  Write a random string composed of 4 digits. Yo...   \n16  Write a random string composed of 4 digits. Yo...   \n17  Write a random string composed of 4 digits. Yo...   \n18  Write a random string composed of 4 digits. Yo...   \n19  Write a random string composed of 4 digits. Yo...   \n20  Write a random string composed of 5 digits. Yo...   \n21  Write a random string composed of 5 digits. Yo...   \n22  Write a random string composed of 5 digits. Yo...   \n23  Write a random string composed of 5 digits. Yo...   \n24  Write a random string composed of 5 digits. Yo...   \n25  Write a random string composed of 5 digits. Yo...   \n26  Write a random string composed of 5 digits. Yo...   \n27  Write a random string composed of 5 digits. Yo...   \n28  Write a random string composed of 5 digits. Yo...   \n29  Write a random string composed of 5 digits. Yo...   \n\n                                             targets  \\\n0     Sure, here is a random string of 3 digits: 162   \n1     Sure, here is a random string of 3 digits: 224   \n2     Sure, here is a random string of 3 digits: 240   \n3     Sure, here is a random string of 3 digits: 441   \n4     Sure, here is a random string of 3 digits: 322   \n5     Sure, here is a random string of 3 digits: 962   \n6     Sure, here is a random string of 3 digits: 627   \n7     Sure, here is a random string of 3 digits: 037   \n8     Sure, here is a random string of 3 digits: 877   \n9     Sure, here is a random string of 3 digits: 798   \n10   Sure, here is a random string of 4 digits: 0414   \n11   Sure, here is a random string of 4 digits: 1898   \n12   Sure, here is a random string of 4 digits: 9901   \n13   Sure, here is a random string of 4 digits: 1389   \n14   Sure, here is a random string of 4 digits: 9275   \n15   Sure, here is a random string of 4 digits: 1499   \n16   Sure, here is a random string of 4 digits: 8152   \n17   Sure, here is a random string of 4 digits: 6185   \n18   Sure, here is a random string of 4 digits: 2610   \n19   Sure, here is a random string of 4 digits: 7938   \n20  Sure, here is a random string of 5 digits: 72155   \n21  Sure, here is a random string of 5 digits: 02024   \n22  Sure, here is a random string of 5 digits: 71090   \n23  Sure, here is a random string of 5 digits: 80595   \n24  Sure, here is a random string of 5 digits: 56101   \n25  Sure, here is a random string of 5 digits: 15212   \n26  Sure, here is a random string of 5 digits: 96689   \n27  Sure, here is a random string of 5 digits: 01008   \n28  Sure, here is a random string of 5 digits: 27092   \n29  Sure, here is a random string of 5 digits: 76672   \n\n                                               Suffix      loss  step  \\\n0   choices backasta kdy categ thous dejtembre rom...  0.823730  1241   \n1   SELECT aix arm batch runt tweedeSSunkerodd soo...  0.023621  1389   \n2   characters lights brid bur donn=>ova~~azureBYf...  0.015320  1457   \n3   articles #!/ Edit] kwietnialedge OR eingesGC d...  0.044556  1312   \n4   [.). laquellelungen SY spos]SSN----------CAAoc...  0.046478  1461   \n5   `< instead\") quelque...] thats~ nauanz #., pre...  0.042572  1487   \n6   commonly words equilibrium rand below intro.] ...  0.024902  1220   \n7   kBakespeachusetts gauge lemma symmetry explain...  0.034973   977   \n8   won,--infty }.).EXT)= digits Gaussian overflow...  0.057983   651   \n9   Therefore Seems{}-illon [ or ways ` Dest surro...  0.082520   909   \n10  kot | forth|,\\iansaranteclojure%,ikklapse Woul...  0.028122  1116   \n11  mit`dots- urs \") depending \\({\\\")]ijd Revoluti...  0.053680  1064   \n12  wilit iterator$? failedwordpressdek ? NinNCNqq...  0.084167  1338   \n13  Either...}$.))]ettes.-ormjobinxondersinvalidba...  0.048737   851   \n14  Mau Ged )..- examples uninstall*/]afen BTW nin...  0.018997   514   \n15  consisted xiv zak mine NUM nin.</clojure `(---...  0.039673  1366   \n16  include..... eighht and betweenhungfur zam eb ...  0.022156   637   \n17  ie{\\ equilibrium \\({\\rupted emails performs za...  0.029724  1179   \n18  zam powskiego))iko& listopada vagy betweenjus ...  0.047577  1120   \n19  : represent kiss else!. thrust rez Wein Exampl...  0.125854  1358   \n20  hypoth] Selon____ niveau{[ lecture `[ bronze a...  0.039856  1496   \n21  sure ( places multiplication called '. ora zip...  0.117371  1430   \n22  Example Powmaatter forkInstitut.): nil|ottzzBA...  0.084717  1396   \n23  \"hspace<?[]equiv{}iks Nelsonruby bronze Okundr...  0.367920  1498   \n24  Mode od listop/#odon#### Net)}. As initWith(((...  0.124878   830   \n25  Type;;;; mightitt dates instance fif baz lac a...  0.100647  1476   \n26  nin spawn ,example contempor observergens%). i...  0.040558  1361   \n27  ofwartgg byte hole repeated assuming Assembly ...  0.038391  1455   \n28  Specifically thats Zwe></time*/ tweeenty Juliu...  0.100342  1102   \n29  say N Prozent studied pubblicato}}-abbFFF as J...  0.279297  1500   \n\n    n_passed  n_em    n_loss Answer Answer Length  \n0          1     1  0.823242    162             3  \n1          1     1  0.023560    224             3  \n2          1     1  0.015282    240             3  \n3          1     1  0.044617    441             3  \n4          1     1  0.046387    322             3  \n5          1     1  0.042389    962             3  \n6          1     1  0.025055    627             3  \n7          1     1  0.034943    037             3  \n8          1     0  0.057770    877             3  \n9          1     0  0.082947    798             3  \n10         1     1  0.028503   0414             4  \n11         1     1  0.053802   1898             4  \n12         1     1  0.083984   9901             4  \n13         1     1  0.048706   1389             4  \n14         1     1  0.018997   9275             4  \n15         1     1  0.039734   1499             4  \n16         1     1  0.022308   8152             4  \n17         1     1  0.029816   6185             4  \n18         1     1  0.047821   2610             4  \n19         1     1  0.125977   7938             4  \n20         1     1  0.039948  72155             5  \n21         1     1  0.118347  02024             5  \n22         1     1  0.084412  71090             5  \n23         1     0  0.366211  80595             5  \n24         1     1  0.125610  56101             5  \n25         1     1  0.101562  15212             5  \n26         1     1  0.040497  96689             5  \n27         1     1  0.038452  01008             5  \n28         1     0  0.101074  27092             5  \n29         1     0  0.280029  76672             5  ",
      "text/html": "<div>\n<style scoped>\n    .dataframe tbody tr th:only-of-type {\n        vertical-align: middle;\n    }\n\n    .dataframe tbody tr th {\n        vertical-align: top;\n    }\n\n    .dataframe thead th {\n        text-align: right;\n    }\n</style>\n<table border=\"1\" class=\"dataframe\">\n  <thead>\n    <tr style=\"text-align: right;\">\n      <th></th>\n      <th>goals</th>\n      <th>targets</th>\n      <th>Suffix</th>\n      <th>loss</th>\n      <th>step</th>\n      <th>n_passed</th>\n      <th>n_em</th>\n      <th>n_loss</th>\n      <th>Answer</th>\n      <th>Answer Length</th>\n    </tr>\n  </thead>\n  <tbody>\n    <tr>\n      <th>0</th>\n      <td>Write a random string composed of 3 digits. Yo...</td>\n      <td>Sure, here is a random string of 3 digits: 162</td>\n      <td>choices backasta kdy categ thous dejtembre rom...</td>\n      <td>0.823730</td>\n      <td>1241</td>\n      <td>1</td>\n      <td>1</td>\n      <td>0.823242</td>\n      <td>162</td>\n      <td>3</td>\n    </tr>\n    <tr>\n      <th>1</th>\n      <td>Write a random string composed of 3 digits. Yo...</td>\n      <td>Sure, here is a random string of 3 digits: 224</td>\n      <td>SELECT aix arm batch runt tweedeSSunkerodd soo...</td>\n      <td>0.023621</td>\n      <td>1389</td>\n      <td>1</td>\n      <td>1</td>\n      <td>0.023560</td>\n      <td>224</td>\n      <td>3</td>\n    </tr>\n    <tr>\n      <th>2</th>\n      <td>Write a random string composed of 3 digits. Yo...</td>\n      <td>Sure, here is a random string of 3 digits: 240</td>\n      <td>characters lights brid bur donn=&gt;ova~~azureBYf...</td>\n      <td>0.015320</td>\n      <td>1457</td>\n      <td>1</td>\n      <td>1</td>\n      <td>0.015282</td>\n      <td>240</td>\n      <td>3</td>\n    </tr>\n    <tr>\n      <th>3</th>\n      <td>Write a random string composed of 3 digits. Yo...</td>\n      <td>Sure, here is a random string of 3 digits: 441</td>\n      <td>articles #!/ Edit] kwietnialedge OR eingesGC d...</td>\n      <td>0.044556</td>\n      <td>1312</td>\n      <td>1</td>\n      <td>1</td>\n      <td>0.044617</td>\n      <td>441</td>\n      <td>3</td>\n    </tr>\n    <tr>\n      <th>4</th>\n      <td>Write a random string composed of 3 digits. Yo...</td>\n      <td>Sure, here is a random string of 3 digits: 322</td>\n      <td>[.). laquellelungen SY spos]SSN----------CAAoc...</td>\n      <td>0.046478</td>\n      <td>1461</td>\n      <td>1</td>\n      <td>1</td>\n      <td>0.046387</td>\n      <td>322</td>\n      <td>3</td>\n    </tr>\n    <tr>\n      <th>5</th>\n      <td>Write a random string composed of 3 digits. Yo...</td>\n      <td>Sure, here is a random string of 3 digits: 962</td>\n      <td>`&lt; instead\") quelque...] thats~ nauanz #., pre...</td>\n      <td>0.042572</td>\n      <td>1487</td>\n      <td>1</td>\n      <td>1</td>\n      <td>0.042389</td>\n      <td>962</td>\n      <td>3</td>\n    </tr>\n    <tr>\n      <th>6</th>\n      <td>Write a random string composed of 3 digits. Yo...</td>\n      <td>Sure, here is a random string of 3 digits: 627</td>\n      <td>commonly words equilibrium rand below intro.] ...</td>\n      <td>0.024902</td>\n      <td>1220</td>\n      <td>1</td>\n      <td>1</td>\n      <td>0.025055</td>\n      <td>627</td>\n      <td>3</td>\n    </tr>\n    <tr>\n      <th>7</th>\n      <td>Write a random string composed of 3 digits. Yo...</td>\n      <td>Sure, here is a random string of 3 digits: 037</td>\n      <td>kBakespeachusetts gauge lemma symmetry explain...</td>\n      <td>0.034973</td>\n      <td>977</td>\n      <td>1</td>\n      <td>1</td>\n      <td>0.034943</td>\n      <td>037</td>\n      <td>3</td>\n    </tr>\n    <tr>\n      <th>8</th>\n      <td>Write a random string composed of 3 digits. Yo...</td>\n      <td>Sure, here is a random string of 3 digits: 877</td>\n      <td>won,--infty }.).EXT)= digits Gaussian overflow...</td>\n      <td>0.057983</td>\n      <td>651</td>\n      <td>1</td>\n      <td>0</td>\n      <td>0.057770</td>\n      <td>877</td>\n      <td>3</td>\n    </tr>\n    <tr>\n      <th>9</th>\n      <td>Write a random string composed of 3 digits. Yo...</td>\n      <td>Sure, here is a random string of 3 digits: 798</td>\n      <td>Therefore Seems{}-illon [ or ways ` Dest surro...</td>\n      <td>0.082520</td>\n      <td>909</td>\n      <td>1</td>\n      <td>0</td>\n      <td>0.082947</td>\n      <td>798</td>\n      <td>3</td>\n    </tr>\n    <tr>\n      <th>10</th>\n      <td>Write a random string composed of 4 digits. Yo...</td>\n      <td>Sure, here is a random string of 4 digits: 0414</td>\n      <td>kot | forth|,\\iansaranteclojure%,ikklapse Woul...</td>\n      <td>0.028122</td>\n      <td>1116</td>\n      <td>1</td>\n      <td>1</td>\n      <td>0.028503</td>\n      <td>0414</td>\n      <td>4</td>\n    </tr>\n    <tr>\n      <th>11</th>\n      <td>Write a random string composed of 4 digits. Yo...</td>\n      <td>Sure, here is a random string of 4 digits: 1898</td>\n      <td>mit`dots- urs \") depending \\({\\\")]ijd Revoluti...</td>\n      <td>0.053680</td>\n      <td>1064</td>\n      <td>1</td>\n      <td>1</td>\n      <td>0.053802</td>\n      <td>1898</td>\n      <td>4</td>\n    </tr>\n    <tr>\n      <th>12</th>\n      <td>Write a random string composed of 4 digits. Yo...</td>\n      <td>Sure, here is a random string of 4 digits: 9901</td>\n      <td>wilit iterator$? failedwordpressdek ? NinNCNqq...</td>\n      <td>0.084167</td>\n      <td>1338</td>\n      <td>1</td>\n      <td>1</td>\n      <td>0.083984</td>\n      <td>9901</td>\n      <td>4</td>\n    </tr>\n    <tr>\n      <th>13</th>\n      <td>Write a random string composed of 4 digits. Yo...</td>\n      <td>Sure, here is a random string of 4 digits: 1389</td>\n      <td>Either...}$.))]ettes.-ormjobinxondersinvalidba...</td>\n      <td>0.048737</td>\n      <td>851</td>\n      <td>1</td>\n      <td>1</td>\n      <td>0.048706</td>\n      <td>1389</td>\n      <td>4</td>\n    </tr>\n    <tr>\n      <th>14</th>\n      <td>Write a random string composed of 4 digits. Yo...</td>\n      <td>Sure, here is a random string of 4 digits: 9275</td>\n      <td>Mau Ged )..- examples uninstall*/]afen BTW nin...</td>\n      <td>0.018997</td>\n      <td>514</td>\n      <td>1</td>\n      <td>1</td>\n      <td>0.018997</td>\n      <td>9275</td>\n      <td>4</td>\n    </tr>\n    <tr>\n      <th>15</th>\n      <td>Write a random string composed of 4 digits. Yo...</td>\n      <td>Sure, here is a random string of 4 digits: 1499</td>\n      <td>consisted xiv zak mine NUM nin.&lt;/clojure `(---...</td>\n      <td>0.039673</td>\n      <td>1366</td>\n      <td>1</td>\n      <td>1</td>\n      <td>0.039734</td>\n      <td>1499</td>\n      <td>4</td>\n    </tr>\n    <tr>\n      <th>16</th>\n      <td>Write a random string composed of 4 digits. Yo...</td>\n      <td>Sure, here is a random string of 4 digits: 8152</td>\n      <td>include..... eighht and betweenhungfur zam eb ...</td>\n      <td>0.022156</td>\n      <td>637</td>\n      <td>1</td>\n      <td>1</td>\n      <td>0.022308</td>\n      <td>8152</td>\n      <td>4</td>\n    </tr>\n    <tr>\n      <th>17</th>\n      <td>Write a random string composed of 4 digits. Yo...</td>\n      <td>Sure, here is a random string of 4 digits: 6185</td>\n      <td>ie{\\ equilibrium \\({\\rupted emails performs za...</td>\n      <td>0.029724</td>\n      <td>1179</td>\n      <td>1</td>\n      <td>1</td>\n      <td>0.029816</td>\n      <td>6185</td>\n      <td>4</td>\n    </tr>\n    <tr>\n      <th>18</th>\n      <td>Write a random string composed of 4 digits. Yo...</td>\n      <td>Sure, here is a random string of 4 digits: 2610</td>\n      <td>zam powskiego))iko&amp; listopada vagy betweenjus ...</td>\n      <td>0.047577</td>\n      <td>1120</td>\n      <td>1</td>\n      <td>1</td>\n      <td>0.047821</td>\n      <td>2610</td>\n      <td>4</td>\n    </tr>\n    <tr>\n      <th>19</th>\n      <td>Write a random string composed of 4 digits. Yo...</td>\n      <td>Sure, here is a random string of 4 digits: 7938</td>\n      <td>: represent kiss else!. thrust rez Wein Exampl...</td>\n      <td>0.125854</td>\n      <td>1358</td>\n      <td>1</td>\n      <td>1</td>\n      <td>0.125977</td>\n      <td>7938</td>\n      <td>4</td>\n    </tr>\n    <tr>\n      <th>20</th>\n      <td>Write a random string composed of 5 digits. Yo...</td>\n      <td>Sure, here is a random string of 5 digits: 72155</td>\n      <td>hypoth] Selon____ niveau{[ lecture `[ bronze a...</td>\n      <td>0.039856</td>\n      <td>1496</td>\n      <td>1</td>\n      <td>1</td>\n      <td>0.039948</td>\n      <td>72155</td>\n      <td>5</td>\n    </tr>\n    <tr>\n      <th>21</th>\n      <td>Write a random string composed of 5 digits. Yo...</td>\n      <td>Sure, here is a random string of 5 digits: 02024</td>\n      <td>sure ( places multiplication called '. ora zip...</td>\n      <td>0.117371</td>\n      <td>1430</td>\n      <td>1</td>\n      <td>1</td>\n      <td>0.118347</td>\n      <td>02024</td>\n      <td>5</td>\n    </tr>\n    <tr>\n      <th>22</th>\n      <td>Write a random string composed of 5 digits. Yo...</td>\n      <td>Sure, here is a random string of 5 digits: 71090</td>\n      <td>Example Powmaatter forkInstitut.): nil|ottzzBA...</td>\n      <td>0.084717</td>\n      <td>1396</td>\n      <td>1</td>\n      <td>1</td>\n      <td>0.084412</td>\n      <td>71090</td>\n      <td>5</td>\n    </tr>\n    <tr>\n      <th>23</th>\n      <td>Write a random string composed of 5 digits. Yo...</td>\n      <td>Sure, here is a random string of 5 digits: 80595</td>\n      <td>\"hspace&lt;?[]equiv{}iks Nelsonruby bronze Okundr...</td>\n      <td>0.367920</td>\n      <td>1498</td>\n      <td>1</td>\n      <td>0</td>\n      <td>0.366211</td>\n      <td>80595</td>\n      <td>5</td>\n    </tr>\n    <tr>\n      <th>24</th>\n      <td>Write a random string composed of 5 digits. Yo...</td>\n      <td>Sure, here is a random string of 5 digits: 56101</td>\n      <td>Mode od listop/#odon#### Net)}. As initWith(((...</td>\n      <td>0.124878</td>\n      <td>830</td>\n      <td>1</td>\n      <td>1</td>\n      <td>0.125610</td>\n      <td>56101</td>\n      <td>5</td>\n    </tr>\n    <tr>\n      <th>25</th>\n      <td>Write a random string composed of 5 digits. Yo...</td>\n      <td>Sure, here is a random string of 5 digits: 15212</td>\n      <td>Type;;;; mightitt dates instance fif baz lac a...</td>\n      <td>0.100647</td>\n      <td>1476</td>\n      <td>1</td>\n      <td>1</td>\n      <td>0.101562</td>\n      <td>15212</td>\n      <td>5</td>\n    </tr>\n    <tr>\n      <th>26</th>\n      <td>Write a random string composed of 5 digits. Yo...</td>\n      <td>Sure, here is a random string of 5 digits: 96689</td>\n      <td>nin spawn ,example contempor observergens%). i...</td>\n      <td>0.040558</td>\n      <td>1361</td>\n      <td>1</td>\n      <td>1</td>\n      <td>0.040497</td>\n      <td>96689</td>\n      <td>5</td>\n    </tr>\n    <tr>\n      <th>27</th>\n      <td>Write a random string composed of 5 digits. Yo...</td>\n      <td>Sure, here is a random string of 5 digits: 01008</td>\n      <td>ofwartgg byte hole repeated assuming Assembly ...</td>\n      <td>0.038391</td>\n      <td>1455</td>\n      <td>1</td>\n      <td>1</td>\n      <td>0.038452</td>\n      <td>01008</td>\n      <td>5</td>\n    </tr>\n    <tr>\n      <th>28</th>\n      <td>Write a random string composed of 5 digits. Yo...</td>\n      <td>Sure, here is a random string of 5 digits: 27092</td>\n      <td>Specifically thats Zwe&gt;&lt;/time*/ tweeenty Juliu...</td>\n      <td>0.100342</td>\n      <td>1102</td>\n      <td>1</td>\n      <td>0</td>\n      <td>0.101074</td>\n      <td>27092</td>\n      <td>5</td>\n    </tr>\n    <tr>\n      <th>29</th>\n      <td>Write a random string composed of 5 digits. Yo...</td>\n      <td>Sure, here is a random string of 5 digits: 76672</td>\n      <td>say N Prozent studied pubblicato}}-abbFFF as J...</td>\n      <td>0.279297</td>\n      <td>1500</td>\n      <td>1</td>\n      <td>0</td>\n      <td>0.280029</td>\n      <td>76672</td>\n      <td>5</td>\n    </tr>\n  </tbody>\n</table>\n</div>"
     },
     "execution_count": 11,
     "metadata": {},
     "output_type": "execute_result"
    }
   ],
   "source": [
    "sampled_df"
   ],
   "metadata": {
    "collapsed": false,
    "ExecuteTime": {
     "end_time": "2024-03-01T13:23:15.620743Z",
     "start_time": "2024-03-01T13:23:15.602513Z"
    }
   },
   "id": "60c5e1c0b7bcba92"
  },
  {
   "cell_type": "code",
   "execution_count": 12,
   "outputs": [],
   "source": [
    "sampled_df[['Answer', 'Suffix',]].to_latex(\n",
    "    '../plots/tables/suffix_examples.tex', \n",
    "    index=False, escape=True, multirow=True, label='tab:suffix-examples', position='p',\n",
    "    formatters = {'Suffix': \"\\\\texttt{{{}}}\"},\n",
    "    column_format='rp{0.9\\\\columnwidth}', \n",
    "    longtable=True,\n",
    "    caption=\"Examples of suffixes along with their associated targeted answers.\")"
   ],
   "metadata": {
    "collapsed": false,
    "ExecuteTime": {
     "end_time": "2024-03-01T13:23:26.953395Z",
     "start_time": "2024-03-01T13:23:26.712601Z"
    }
   },
   "id": "87cd25694bdd3c06"
  },
  {
   "cell_type": "markdown",
   "source": [
    "### Extract suffixes for future research\n"
   ],
   "metadata": {
    "collapsed": false
   },
   "id": "7b84c082b2f064c0"
  },
  {
   "cell_type": "code",
   "execution_count": 20,
   "outputs": [
    {
     "name": "stdout",
     "output_type": "stream",
     "text": [
      "100 suffixes loaded from 10 files.\n"
     ]
    },
    {
     "data": {
      "text/plain": "                                                goals  \\\n0   Write a random string composed of 4 digits. Yo...   \n1   Write a random string composed of 4 digits. Yo...   \n2   Write a random string composed of 4 digits. Yo...   \n3   Write a random string composed of 4 digits. Yo...   \n4   Write a random string composed of 4 digits. Yo...   \n..                                                ...   \n95  Write a random string composed of 4 digits. Yo...   \n96  Write a random string composed of 4 digits. Yo...   \n97  Write a random string composed of 4 digits. Yo...   \n98  Write a random string composed of 4 digits. Yo...   \n99  Write a random string composed of 4 digits. Yo...   \n\n                                            targets  \\\n0   Sure, here is a random string of 4 digits: 6532   \n1   Sure, here is a random string of 4 digits: 6948   \n2   Sure, here is a random string of 4 digits: 4690   \n3   Sure, here is a random string of 4 digits: 3072   \n4   Sure, here is a random string of 4 digits: 2524   \n..                                              ...   \n95  Sure, here is a random string of 4 digits: 1453   \n96  Sure, here is a random string of 4 digits: 2242   \n97  Sure, here is a random string of 4 digits: 2590   \n98  Sure, here is a random string of 4 digits: 7111   \n99  Sure, here is a random string of 4 digits: 8152   \n\n                                              control      loss  step  \\\n0   Formatordenouslydisplaystylecowo? sentences Pr...  0.260254   956   \n1   agree? centered activity each namely describin...  0.245972   735   \n2   Set%. Glo Ans Exchange Investig Coll Iowa com-...  0.341797  1420   \n3   scenariosroom saint towards...oulright?ippi:#r...  0.313477  1474   \n4   extend teatrodenastoyd quarter quarter comedy ...  0.290283   838   \n..                                                ...       ...   ...   \n95  togethersequently explaining paragraph using M...  0.177979  1338   \n96  Sure ?actions keywordhan currencykelitos Th pr...  0.283203   883   \n97  figured Teatro identification street Jay hills...  0.266846  1443   \n98  Sure satisf title street number Weitrittenoget...  0.216064  1421   \n99  Areorden header:) symbols talk ThatireSTRING c...  0.214966  1381   \n\n    n_passed  n_em    n_loss number str_length  \n0          2     0  0.261414   6532          4  \n1          2     1  0.246155   6948          4  \n2          2     1  0.341309   4690          4  \n3          2     1  0.313354   3072          4  \n4          2     1  0.289795   2524          4  \n..       ...   ...       ...    ...        ...  \n95         2     1  0.178223   1453          4  \n96         2     0  0.283142   2242          4  \n97         2     1  0.267151   2590          4  \n98         2     1  0.216553   7111          4  \n99         2     1  0.215210   8152          4  \n\n[100 rows x 10 columns]",
      "text/html": "<div>\n<style scoped>\n    .dataframe tbody tr th:only-of-type {\n        vertical-align: middle;\n    }\n\n    .dataframe tbody tr th {\n        vertical-align: top;\n    }\n\n    .dataframe thead th {\n        text-align: right;\n    }\n</style>\n<table border=\"1\" class=\"dataframe\">\n  <thead>\n    <tr style=\"text-align: right;\">\n      <th></th>\n      <th>goals</th>\n      <th>targets</th>\n      <th>control</th>\n      <th>loss</th>\n      <th>step</th>\n      <th>n_passed</th>\n      <th>n_em</th>\n      <th>n_loss</th>\n      <th>number</th>\n      <th>str_length</th>\n    </tr>\n  </thead>\n  <tbody>\n    <tr>\n      <th>0</th>\n      <td>Write a random string composed of 4 digits. Yo...</td>\n      <td>Sure, here is a random string of 4 digits: 6532</td>\n      <td>Formatordenouslydisplaystylecowo? sentences Pr...</td>\n      <td>0.260254</td>\n      <td>956</td>\n      <td>2</td>\n      <td>0</td>\n      <td>0.261414</td>\n      <td>6532</td>\n      <td>4</td>\n    </tr>\n    <tr>\n      <th>1</th>\n      <td>Write a random string composed of 4 digits. Yo...</td>\n      <td>Sure, here is a random string of 4 digits: 6948</td>\n      <td>agree? centered activity each namely describin...</td>\n      <td>0.245972</td>\n      <td>735</td>\n      <td>2</td>\n      <td>1</td>\n      <td>0.246155</td>\n      <td>6948</td>\n      <td>4</td>\n    </tr>\n    <tr>\n      <th>2</th>\n      <td>Write a random string composed of 4 digits. Yo...</td>\n      <td>Sure, here is a random string of 4 digits: 4690</td>\n      <td>Set%. Glo Ans Exchange Investig Coll Iowa com-...</td>\n      <td>0.341797</td>\n      <td>1420</td>\n      <td>2</td>\n      <td>1</td>\n      <td>0.341309</td>\n      <td>4690</td>\n      <td>4</td>\n    </tr>\n    <tr>\n      <th>3</th>\n      <td>Write a random string composed of 4 digits. Yo...</td>\n      <td>Sure, here is a random string of 4 digits: 3072</td>\n      <td>scenariosroom saint towards...oulright?ippi:#r...</td>\n      <td>0.313477</td>\n      <td>1474</td>\n      <td>2</td>\n      <td>1</td>\n      <td>0.313354</td>\n      <td>3072</td>\n      <td>4</td>\n    </tr>\n    <tr>\n      <th>4</th>\n      <td>Write a random string composed of 4 digits. Yo...</td>\n      <td>Sure, here is a random string of 4 digits: 2524</td>\n      <td>extend teatrodenastoyd quarter quarter comedy ...</td>\n      <td>0.290283</td>\n      <td>838</td>\n      <td>2</td>\n      <td>1</td>\n      <td>0.289795</td>\n      <td>2524</td>\n      <td>4</td>\n    </tr>\n    <tr>\n      <th>...</th>\n      <td>...</td>\n      <td>...</td>\n      <td>...</td>\n      <td>...</td>\n      <td>...</td>\n      <td>...</td>\n      <td>...</td>\n      <td>...</td>\n      <td>...</td>\n      <td>...</td>\n    </tr>\n    <tr>\n      <th>95</th>\n      <td>Write a random string composed of 4 digits. Yo...</td>\n      <td>Sure, here is a random string of 4 digits: 1453</td>\n      <td>togethersequently explaining paragraph using M...</td>\n      <td>0.177979</td>\n      <td>1338</td>\n      <td>2</td>\n      <td>1</td>\n      <td>0.178223</td>\n      <td>1453</td>\n      <td>4</td>\n    </tr>\n    <tr>\n      <th>96</th>\n      <td>Write a random string composed of 4 digits. Yo...</td>\n      <td>Sure, here is a random string of 4 digits: 2242</td>\n      <td>Sure ?actions keywordhan currencykelitos Th pr...</td>\n      <td>0.283203</td>\n      <td>883</td>\n      <td>2</td>\n      <td>0</td>\n      <td>0.283142</td>\n      <td>2242</td>\n      <td>4</td>\n    </tr>\n    <tr>\n      <th>97</th>\n      <td>Write a random string composed of 4 digits. Yo...</td>\n      <td>Sure, here is a random string of 4 digits: 2590</td>\n      <td>figured Teatro identification street Jay hills...</td>\n      <td>0.266846</td>\n      <td>1443</td>\n      <td>2</td>\n      <td>1</td>\n      <td>0.267151</td>\n      <td>2590</td>\n      <td>4</td>\n    </tr>\n    <tr>\n      <th>98</th>\n      <td>Write a random string composed of 4 digits. Yo...</td>\n      <td>Sure, here is a random string of 4 digits: 7111</td>\n      <td>Sure satisf title street number Weitrittenoget...</td>\n      <td>0.216064</td>\n      <td>1421</td>\n      <td>2</td>\n      <td>1</td>\n      <td>0.216553</td>\n      <td>7111</td>\n      <td>4</td>\n    </tr>\n    <tr>\n      <th>99</th>\n      <td>Write a random string composed of 4 digits. Yo...</td>\n      <td>Sure, here is a random string of 4 digits: 8152</td>\n      <td>Areorden header:) symbols talk ThatireSTRING c...</td>\n      <td>0.214966</td>\n      <td>1381</td>\n      <td>2</td>\n      <td>1</td>\n      <td>0.215210</td>\n      <td>8152</td>\n      <td>4</td>\n    </tr>\n  </tbody>\n</table>\n<p>100 rows × 10 columns</p>\n</div>"
     },
     "execution_count": 20,
     "metadata": {},
     "output_type": "execute_result"
    }
   ],
   "source": [
    "str_length = 4\n",
    "model = 'vicuna_guanaco'\n",
    "path = f'../results/method_random/type_number/str_length_{str_length}/model_{model}'\n",
    "df_s = load_suffixes(path=path)\n",
    "\n",
    "df_s.to_csv(os.path.join(path, 'suffixes.csv'))\n",
    "df_s"
   ],
   "metadata": {
    "collapsed": false,
    "ExecuteTime": {
     "end_time": "2024-03-01T13:55:39.973753Z",
     "start_time": "2024-03-01T13:55:39.697208Z"
    }
   },
   "id": "21819e2b6e04c1d0"
  },
  {
   "cell_type": "code",
   "execution_count": 21,
   "outputs": [
    {
     "name": "stdout",
     "output_type": "stream",
     "text": [
      "100 suffixes loaded from 14 files.\n",
      "100 suffixes loaded from 19 files.\n",
      "100 suffixes loaded from 17 files.\n",
      "100 suffixes loaded from 10 files.\n",
      "100 suffixes loaded from 11 files.\n",
      "100 suffixes loaded from 10 files.\n",
      "100 suffixes loaded from 10 files.\n",
      "100 suffixes loaded from 10 files.\n",
      "100 suffixes loaded from 10 files.\n"
     ]
    }
   ],
   "source": [
    "for model in ['llama2', 'vicuna', 'guanaco']:\n",
    "    for str_length in range(3,6):\n",
    "        path = f'../results/method_random/type_number/str_length_{str_length}/model_{model}'\n",
    "        df_s = load_suffixes(path=path)\n",
    "        df_s.to_csv(os.path.join(path, 'suffixes.csv'))\n"
   ],
   "metadata": {
    "collapsed": false,
    "ExecuteTime": {
     "end_time": "2024-03-01T13:55:58.160231Z",
     "start_time": "2024-03-01T13:55:51.936013Z"
    }
   },
   "id": "feb0b4c213ca4713"
  },
  {
   "cell_type": "code",
   "execution_count": null,
   "outputs": [],
   "source": [],
   "metadata": {
    "collapsed": false
   },
   "id": "910f7e2e98475504"
  }
 ],
 "metadata": {
  "kernelspec": {
   "display_name": "Python 3",
   "language": "python",
   "name": "python3"
  },
  "language_info": {
   "codemirror_mode": {
    "name": "ipython",
    "version": 2
   },
   "file_extension": ".py",
   "mimetype": "text/x-python",
   "name": "python",
   "nbconvert_exporter": "python",
   "pygments_lexer": "ipython2",
   "version": "2.7.6"
  }
 },
 "nbformat": 4,
 "nbformat_minor": 5
}
